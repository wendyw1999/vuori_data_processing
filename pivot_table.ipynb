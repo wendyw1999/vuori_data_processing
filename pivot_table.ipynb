{
 "cells": [
  {
   "cell_type": "code",
   "execution_count": 17,
   "metadata": {},
   "outputs": [],
   "source": [
    "from glob import glob\n",
    "import pandas as pd\n",
    "import numpy"
   ]
  },
  {
   "cell_type": "code",
   "execution_count": null,
   "metadata": {},
   "outputs": [],
   "source": []
  },
  {
   "cell_type": "code",
   "execution_count": null,
   "metadata": {},
   "outputs": [],
   "source": []
  },
  {
   "cell_type": "code",
   "execution_count": 19,
   "metadata": {
    "scrolled": false
   },
   "outputs": [
    {
     "name": "stdout",
     "output_type": "stream",
     "text": [
      "stocktakes/mb_2.csv\n",
      "stocktakes/mb_1.csv\n",
      "-2\n",
      "3\n"
     ]
    },
    {
     "data": {
      "text/html": [
       "<div>\n",
       "<style scoped>\n",
       "    .dataframe tbody tr th:only-of-type {\n",
       "        vertical-align: middle;\n",
       "    }\n",
       "\n",
       "    .dataframe tbody tr th {\n",
       "        vertical-align: top;\n",
       "    }\n",
       "\n",
       "    .dataframe thead th {\n",
       "        text-align: right;\n",
       "    }\n",
       "</style>\n",
       "<table border=\"1\" class=\"dataframe\">\n",
       "  <thead>\n",
       "    <tr style=\"text-align: right;\">\n",
       "      <th></th>\n",
       "      <th></th>\n",
       "      <th>Adjustment</th>\n",
       "    </tr>\n",
       "    <tr>\n",
       "      <th>SKU_noSize</th>\n",
       "      <th>size</th>\n",
       "      <th></th>\n",
       "    </tr>\n",
       "  </thead>\n",
       "  <tbody>\n",
       "    <tr>\n",
       "      <th>V370CCL</th>\n",
       "      <th>SML</th>\n",
       "      <td>-1</td>\n",
       "    </tr>\n",
       "    <tr>\n",
       "      <th>V370KHK</th>\n",
       "      <th>LRG</th>\n",
       "      <td>-1</td>\n",
       "    </tr>\n",
       "  </tbody>\n",
       "</table>\n",
       "</div>"
      ],
      "text/plain": [
       "                 Adjustment\n",
       "SKU_noSize size            \n",
       "V370CCL    SML           -1\n",
       "V370KHK    LRG           -1"
      ]
     },
     "metadata": {},
     "output_type": "display_data"
    },
    {
     "data": {
      "text/html": [
       "<div>\n",
       "<style scoped>\n",
       "    .dataframe tbody tr th:only-of-type {\n",
       "        vertical-align: middle;\n",
       "    }\n",
       "\n",
       "    .dataframe tbody tr th {\n",
       "        vertical-align: top;\n",
       "    }\n",
       "\n",
       "    .dataframe thead th {\n",
       "        text-align: right;\n",
       "    }\n",
       "</style>\n",
       "<table border=\"1\" class=\"dataframe\">\n",
       "  <thead>\n",
       "    <tr style=\"text-align: right;\">\n",
       "      <th></th>\n",
       "      <th></th>\n",
       "      <th>Adjustment</th>\n",
       "    </tr>\n",
       "    <tr>\n",
       "      <th>SKU_noSize</th>\n",
       "      <th>size</th>\n",
       "      <th></th>\n",
       "    </tr>\n",
       "  </thead>\n",
       "  <tbody>\n",
       "    <tr>\n",
       "      <th rowspan=\"2\" valign=\"top\">V370CCL</th>\n",
       "      <th>LRG</th>\n",
       "      <td>1</td>\n",
       "    </tr>\n",
       "    <tr>\n",
       "      <th>MED</th>\n",
       "      <td>1</td>\n",
       "    </tr>\n",
       "    <tr>\n",
       "      <th>V434BLK</th>\n",
       "      <th>LRG</th>\n",
       "      <td>1</td>\n",
       "    </tr>\n",
       "  </tbody>\n",
       "</table>\n",
       "</div>"
      ],
      "text/plain": [
       "                 Adjustment\n",
       "SKU_noSize size            \n",
       "V370CCL    LRG            1\n",
       "           MED            1\n",
       "V434BLK    LRG            1"
      ]
     },
     "metadata": {},
     "output_type": "display_data"
    }
   ],
   "source": [
    "file_name = \"stocktakes/mb*.csv\"\n",
    "df = pd.DataFrame()\n",
    "df_list = []\n",
    "for f in glob(file_name):\n",
    "    print(f)\n",
    "    sub_df = pd.read_csv(f)\n",
    "    df_list.append(sub_df)\n",
    "df = pd.concat(df_list,axis=0)\n",
    "    \n",
    "    \n",
    "df[\"size\"] = df.SKU.apply(lambda x:\"\".join(list(x)[-3:]))\n",
    "\n",
    "\n",
    "def remove_sizes(string):\n",
    "    string = string.replace(\"MED\",\"\")\n",
    "    string = string.replace(\"XXL\",\"\")\n",
    "    string = string.replace(\"SML\",\"\")\n",
    "    string = string.replace(\"MED\",\"\")\n",
    "    string = string.replace(\"XXS\",\"\")\n",
    "    string = string.replace(\"LRG\",\"\")\n",
    "    string = string.replace(\"XLG\",\"\")\n",
    "    string = string.replace(\"XSM\",\"\")\n",
    "    return string\n",
    "    \n",
    "    \n",
    "df[\"SKU_noSize\"] = df.SKU.apply(lambda x:remove_sizes(x))\n",
    "minus = df.loc[df.Adjustment < 0]\n",
    "plus = df.loc[df.Adjustment >0]\n",
    "print(minus.Adjustment.sum())\n",
    "print(plus.Adjustment.sum())\n",
    "display(minus.groupby([\"SKU_noSize\",\"size\"]).agg({\"Adjustment\":\"sum\"}))\n",
    "pd.set_option(\"display.max_rows\", None, \"display.max_columns\", None)\n",
    "\n",
    "display(plus.groupby([\"SKU_noSize\",\"size\"]).agg({\"Adjustment\":\"sum\"}))\n"
   ]
  },
  {
   "cell_type": "markdown",
   "metadata": {},
   "source": [
    "## plus[\"SKU_noSize\"].nunique()"
   ]
  },
  {
   "cell_type": "code",
   "execution_count": 10,
   "metadata": {},
   "outputs": [
    {
     "name": "stdout",
     "output_type": "stream",
     "text": [
      "Return/Damaged/Giftcard and their count of rows\n",
      "Notes (LightSpeed Return or Damaged)\n",
      "Damage               7\n",
      "Gift Return          1\n",
      "Gift Return          4\n",
      "Lightspeed Return    3\n",
      "Name: Quantity, dtype: int64\n",
      "=========\n",
      "Damaged:\n"
     ]
    },
    {
     "data": {
      "text/html": [
       "<div>\n",
       "<style scoped>\n",
       "    .dataframe tbody tr th:only-of-type {\n",
       "        vertical-align: middle;\n",
       "    }\n",
       "\n",
       "    .dataframe tbody tr th {\n",
       "        vertical-align: top;\n",
       "    }\n",
       "\n",
       "    .dataframe thead th {\n",
       "        text-align: right;\n",
       "    }\n",
       "</style>\n",
       "<table border=\"1\" class=\"dataframe\">\n",
       "  <thead>\n",
       "    <tr style=\"text-align: right;\">\n",
       "      <th></th>\n",
       "      <th></th>\n",
       "      <th>Quantity</th>\n",
       "    </tr>\n",
       "    <tr>\n",
       "      <th>SKU_partial</th>\n",
       "      <th>Size</th>\n",
       "      <th></th>\n",
       "    </tr>\n",
       "  </thead>\n",
       "  <tbody>\n",
       "    <tr>\n",
       "      <th>V163HTG</th>\n",
       "      <th>L</th>\n",
       "      <td>1</td>\n",
       "    </tr>\n",
       "    <tr>\n",
       "      <th>V420INK</th>\n",
       "      <th>036</th>\n",
       "      <td>1</td>\n",
       "    </tr>\n",
       "    <tr>\n",
       "      <th>VW133LHG</th>\n",
       "      <th>S</th>\n",
       "      <td>1</td>\n",
       "    </tr>\n",
       "    <tr>\n",
       "      <th>VW303BLK</th>\n",
       "      <th>M</th>\n",
       "      <td>1</td>\n",
       "    </tr>\n",
       "    <tr>\n",
       "      <th>VW303HTG</th>\n",
       "      <th>XS</th>\n",
       "      <td>1</td>\n",
       "    </tr>\n",
       "    <tr>\n",
       "      <th>VW428BLK</th>\n",
       "      <th>S</th>\n",
       "      <td>1</td>\n",
       "    </tr>\n",
       "  </tbody>\n",
       "</table>\n",
       "</div>"
      ],
      "text/plain": [
       "                  Quantity\n",
       "SKU_partial Size          \n",
       "V163HTG     L            1\n",
       "V420INK     036          1\n",
       "VW133LHG    S            1\n",
       "VW303BLK    M            1\n",
       "VW303HTG    XS           1\n",
       "VW428BLK    S            1"
      ]
     },
     "execution_count": 10,
     "metadata": {},
     "output_type": "execute_result"
    }
   ],
   "source": [
    "file_name = \"nightly_logs/mb.csv\"\n",
    "delimiter = \",\"\n",
    "dates = [\"3/25/2021\"]\n",
    "\n",
    "df2 = pd.read_csv(file_name,delimiter=delimiter)\n",
    "df2.columns = df2.iloc[0]\n",
    "\n",
    "def apply_numeric_size(string):\n",
    "    if string.isnumeric():\n",
    "        string = string.zfill(3)\n",
    "    return string\n",
    "\n",
    "df2=df2.dropna(subset=[\"Date\",\"SKU\",\"Style\"])\n",
    "df2 = df2.loc[df2.Date.isin(dates)]\n",
    "df2.Size = df2.Size.apply(lambda x:apply_numeric_size(x))\n",
    "df2[\"SKU_full\"] = df2[\"SKU\"] + df2[\"Color\"] + df2[\"Size\"]\n",
    "df2[\"SKU_partial\"] = df2[\"SKU\"]+df2[\"Color\"]\n",
    "df2 = df2.loc[df2[\"Processed\\n(Stocky)\"] == \"FALSE\"]\n",
    "df2[\"Quantity\"] = df2[\"Quantity\"].apply(lambda x:int(x))\n",
    "print(\"Return/Damaged/Giftcard and their count of rows\")\n",
    "print(df2.groupby([\"Notes (LightSpeed Return or Damaged)\"]).Quantity.sum())\n",
    "damaged = df2.loc[df2[\"Notes (LightSpeed Return or Damaged)\"].isin([\"Damage\",\"Dmage\",\"Damage \",\"Damaged\"])]\n",
    "print(\"=========\")\n",
    "print(\"Damaged:\")\n",
    "damaged.groupby([\"SKU_partial\",\"Size\"]).agg({\"Quantity\":\"sum\"})\n"
   ]
  },
  {
   "cell_type": "code",
   "execution_count": 11,
   "metadata": {},
   "outputs": [
    {
     "data": {
      "text/plain": [
       "7"
      ]
     },
     "execution_count": 11,
     "metadata": {},
     "output_type": "execute_result"
    }
   ],
   "source": [
    "damaged.Quantity.sum()"
   ]
  },
  {
   "cell_type": "code",
   "execution_count": 16,
   "metadata": {
    "scrolled": false
   },
   "outputs": [
    {
     "data": {
      "text/html": [
       "<div>\n",
       "<style scoped>\n",
       "    .dataframe tbody tr th:only-of-type {\n",
       "        vertical-align: middle;\n",
       "    }\n",
       "\n",
       "    .dataframe tbody tr th {\n",
       "        vertical-align: top;\n",
       "    }\n",
       "\n",
       "    .dataframe thead th {\n",
       "        text-align: right;\n",
       "    }\n",
       "</style>\n",
       "<table border=\"1\" class=\"dataframe\">\n",
       "  <thead>\n",
       "    <tr style=\"text-align: right;\">\n",
       "      <th></th>\n",
       "      <th>Quantity</th>\n",
       "    </tr>\n",
       "    <tr>\n",
       "      <th>SKU_full</th>\n",
       "      <th></th>\n",
       "    </tr>\n",
       "  </thead>\n",
       "  <tbody>\n",
       "    <tr>\n",
       "      <th>V163HTGL</th>\n",
       "      <td>-1</td>\n",
       "    </tr>\n",
       "    <tr>\n",
       "      <th>V420INK036</th>\n",
       "      <td>-1</td>\n",
       "    </tr>\n",
       "    <tr>\n",
       "      <th>VW133LHGS</th>\n",
       "      <td>-1</td>\n",
       "    </tr>\n",
       "    <tr>\n",
       "      <th>VW303BLKM</th>\n",
       "      <td>-1</td>\n",
       "    </tr>\n",
       "    <tr>\n",
       "      <th>VW303HTGXS</th>\n",
       "      <td>-1</td>\n",
       "    </tr>\n",
       "    <tr>\n",
       "      <th>VW428BLKS</th>\n",
       "      <td>-1</td>\n",
       "    </tr>\n",
       "  </tbody>\n",
       "</table>\n",
       "</div>"
      ],
      "text/plain": [
       "            Quantity\n",
       "SKU_full            \n",
       "V163HTGL          -1\n",
       "V420INK036        -1\n",
       "VW133LHGS         -1\n",
       "VW303BLKM         -1\n",
       "VW303HTGXS        -1\n",
       "VW428BLKS         -1"
      ]
     },
     "execution_count": 16,
     "metadata": {},
     "output_type": "execute_result"
    }
   ],
   "source": [
    "#damaged[\"SKU_full\"] = damaged.SKU_full.apply(lambda x:x.replace(\" \",\"\"))\n",
    "damaged.groupby(\"SKU_full\").agg({\"Quantity\":\"sum\"}) * -1"
   ]
  },
  {
   "cell_type": "code",
   "execution_count": 14,
   "metadata": {
    "scrolled": true
   },
   "outputs": [
    {
     "name": "stdout",
     "output_type": "stream",
     "text": [
      "3\n"
     ]
    },
    {
     "data": {
      "text/html": [
       "<div>\n",
       "<style scoped>\n",
       "    .dataframe tbody tr th:only-of-type {\n",
       "        vertical-align: middle;\n",
       "    }\n",
       "\n",
       "    .dataframe tbody tr th {\n",
       "        vertical-align: top;\n",
       "    }\n",
       "\n",
       "    .dataframe thead th {\n",
       "        text-align: right;\n",
       "    }\n",
       "</style>\n",
       "<table border=\"1\" class=\"dataframe\">\n",
       "  <thead>\n",
       "    <tr style=\"text-align: right;\">\n",
       "      <th></th>\n",
       "      <th></th>\n",
       "      <th>Quantity</th>\n",
       "    </tr>\n",
       "    <tr>\n",
       "      <th>SKU_partial</th>\n",
       "      <th>Size</th>\n",
       "      <th></th>\n",
       "    </tr>\n",
       "  </thead>\n",
       "  <tbody>\n",
       "    <tr>\n",
       "      <th>V302IND</th>\n",
       "      <th>L</th>\n",
       "      <td>1</td>\n",
       "    </tr>\n",
       "    <tr>\n",
       "      <th>V418HTI</th>\n",
       "      <th>L</th>\n",
       "      <td>1</td>\n",
       "    </tr>\n",
       "    <tr>\n",
       "      <th>VW401CCL</th>\n",
       "      <th>XS</th>\n",
       "      <td>1</td>\n",
       "    </tr>\n",
       "  </tbody>\n",
       "</table>\n",
       "</div>"
      ],
      "text/plain": [
       "                  Quantity\n",
       "SKU_partial Size          \n",
       "V302IND     L            1\n",
       "V418HTI     L            1\n",
       "VW401CCL    XS           1"
      ]
     },
     "metadata": {},
     "output_type": "display_data"
    },
    {
     "data": {
      "text/html": [
       "<div>\n",
       "<style scoped>\n",
       "    .dataframe tbody tr th:only-of-type {\n",
       "        vertical-align: middle;\n",
       "    }\n",
       "\n",
       "    .dataframe tbody tr th {\n",
       "        vertical-align: top;\n",
       "    }\n",
       "\n",
       "    .dataframe thead th {\n",
       "        text-align: right;\n",
       "    }\n",
       "</style>\n",
       "<table border=\"1\" class=\"dataframe\">\n",
       "  <thead>\n",
       "    <tr style=\"text-align: right;\">\n",
       "      <th></th>\n",
       "      <th>Quantity</th>\n",
       "    </tr>\n",
       "    <tr>\n",
       "      <th>SKU_full</th>\n",
       "      <th></th>\n",
       "    </tr>\n",
       "  </thead>\n",
       "  <tbody>\n",
       "    <tr>\n",
       "      <th>V302INDL</th>\n",
       "      <td>1</td>\n",
       "    </tr>\n",
       "    <tr>\n",
       "      <th>V418HTIL</th>\n",
       "      <td>1</td>\n",
       "    </tr>\n",
       "    <tr>\n",
       "      <th>VW401CCLXS</th>\n",
       "      <td>1</td>\n",
       "    </tr>\n",
       "  </tbody>\n",
       "</table>\n",
       "</div>"
      ],
      "text/plain": [
       "            Quantity\n",
       "SKU_full            \n",
       "V302INDL           1\n",
       "V418HTIL           1\n",
       "VW401CCLXS         1"
      ]
     },
     "metadata": {},
     "output_type": "display_data"
    }
   ],
   "source": [
    "lightspeed_return = df2.loc[df2[\"Notes (LightSpeed Return or Damaged)\"]==\"Lightspeed Return\"]\n",
    "print(lightspeed_return.Quantity.sum())\n",
    "\n",
    "display(lightspeed_return.groupby([\"SKU_partial\",\"Size\"]).agg({\"Quantity\":\"sum\"}))\n",
    "display(lightspeed_return.groupby(\"SKU_full\").agg({\"Quantity\":\"sum\"}))\n"
   ]
  },
  {
   "cell_type": "code",
   "execution_count": 15,
   "metadata": {},
   "outputs": [
    {
     "name": "stdout",
     "output_type": "stream",
     "text": [
      "5\n"
     ]
    },
    {
     "data": {
      "text/html": [
       "<div>\n",
       "<style scoped>\n",
       "    .dataframe tbody tr th:only-of-type {\n",
       "        vertical-align: middle;\n",
       "    }\n",
       "\n",
       "    .dataframe tbody tr th {\n",
       "        vertical-align: top;\n",
       "    }\n",
       "\n",
       "    .dataframe thead th {\n",
       "        text-align: right;\n",
       "    }\n",
       "</style>\n",
       "<table border=\"1\" class=\"dataframe\">\n",
       "  <thead>\n",
       "    <tr style=\"text-align: right;\">\n",
       "      <th></th>\n",
       "      <th></th>\n",
       "      <th>Quantity</th>\n",
       "    </tr>\n",
       "    <tr>\n",
       "      <th>SKU_partial</th>\n",
       "      <th>Size</th>\n",
       "      <th></th>\n",
       "    </tr>\n",
       "  </thead>\n",
       "  <tbody>\n",
       "    <tr>\n",
       "      <th>V302CCL</th>\n",
       "      <th>M</th>\n",
       "      <td>1</td>\n",
       "    </tr>\n",
       "    <tr>\n",
       "      <th>V416HPT</th>\n",
       "      <th>L</th>\n",
       "      <td>1</td>\n",
       "    </tr>\n",
       "    <tr>\n",
       "      <th>V416IND</th>\n",
       "      <th>L</th>\n",
       "      <td>1</td>\n",
       "    </tr>\n",
       "    <tr>\n",
       "      <th>VW142HCC</th>\n",
       "      <th>M</th>\n",
       "      <td>1</td>\n",
       "    </tr>\n",
       "    <tr>\n",
       "      <th>VW303-LBLK</th>\n",
       "      <th>S</th>\n",
       "      <td>1</td>\n",
       "    </tr>\n",
       "  </tbody>\n",
       "</table>\n",
       "</div>"
      ],
      "text/plain": [
       "                  Quantity\n",
       "SKU_partial Size          \n",
       "V302CCL     M            1\n",
       "V416HPT     L            1\n",
       "V416IND     L            1\n",
       "VW142HCC    M            1\n",
       "VW303-LBLK  S            1"
      ]
     },
     "metadata": {},
     "output_type": "display_data"
    },
    {
     "data": {
      "text/html": [
       "<div>\n",
       "<style scoped>\n",
       "    .dataframe tbody tr th:only-of-type {\n",
       "        vertical-align: middle;\n",
       "    }\n",
       "\n",
       "    .dataframe tbody tr th {\n",
       "        vertical-align: top;\n",
       "    }\n",
       "\n",
       "    .dataframe thead th {\n",
       "        text-align: right;\n",
       "    }\n",
       "</style>\n",
       "<table border=\"1\" class=\"dataframe\">\n",
       "  <thead>\n",
       "    <tr style=\"text-align: right;\">\n",
       "      <th></th>\n",
       "      <th>Quantity</th>\n",
       "    </tr>\n",
       "    <tr>\n",
       "      <th>SKU_full</th>\n",
       "      <th></th>\n",
       "    </tr>\n",
       "  </thead>\n",
       "  <tbody>\n",
       "    <tr>\n",
       "      <th>V302CCLM</th>\n",
       "      <td>1</td>\n",
       "    </tr>\n",
       "    <tr>\n",
       "      <th>V416HPTL</th>\n",
       "      <td>1</td>\n",
       "    </tr>\n",
       "    <tr>\n",
       "      <th>V416INDL</th>\n",
       "      <td>1</td>\n",
       "    </tr>\n",
       "    <tr>\n",
       "      <th>VW142HCCM</th>\n",
       "      <td>1</td>\n",
       "    </tr>\n",
       "    <tr>\n",
       "      <th>VW303-LBLKS</th>\n",
       "      <td>1</td>\n",
       "    </tr>\n",
       "  </tbody>\n",
       "</table>\n",
       "</div>"
      ],
      "text/plain": [
       "             Quantity\n",
       "SKU_full             \n",
       "V302CCLM            1\n",
       "V416HPTL            1\n",
       "V416INDL            1\n",
       "VW142HCCM           1\n",
       "VW303-LBLKS         1"
      ]
     },
     "metadata": {},
     "output_type": "display_data"
    }
   ],
   "source": [
    "\n",
    "giftcard = df2.loc[df2[\"Notes (LightSpeed Return or Damaged)\"].isin([\"Lightspeed Return Gift Card\",\"Lightspeed Return Giftcard\",\"Lightspeed Giftcard\",\"Gift Return\",\"Gift Return \",\"Gift\",\"Gift REturn \"])]\n",
    "print(giftcard.Quantity.sum())\n",
    "\n",
    "display(giftcard.groupby([\"SKU_partial\",\"Size\"]).agg({\"Quantity\":\"sum\"}))\n",
    "display(giftcard.groupby(\"SKU_full\").agg({\"Quantity\":\"sum\"}))\n"
   ]
  }
 ],
 "metadata": {
  "kernelspec": {
   "display_name": "Python 3 (clean)",
   "language": "python",
   "name": "python3_clean"
  },
  "language_info": {
   "codemirror_mode": {
    "name": "ipython",
    "version": 3
   },
   "file_extension": ".py",
   "mimetype": "text/x-python",
   "name": "python",
   "nbconvert_exporter": "python",
   "pygments_lexer": "ipython3",
   "version": "3.7.6"
  }
 },
 "nbformat": 4,
 "nbformat_minor": 4
}
