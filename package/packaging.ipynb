{
 "cells": [
  {
   "cell_type": "code",
   "execution_count": 76,
   "metadata": {},
   "outputs": [],
   "source": [
    "import pandas as pd\n",
    "upc_df = pd.read_csv(\"upc_list.csv\",header=None)\n",
    "data = pd.read_csv(\"transfer_data.csv\",header=None)\n",
    "data.columns = data.loc[1]"
   ]
  },
  {
   "cell_type": "code",
   "execution_count": 77,
   "metadata": {},
   "outputs": [],
   "source": [
    "upc_df[\"sku\"] = upc_df[1] + upc_df[6] + upc_df[3]\n",
    "upc_df[\"description\"] = upc_df[2] + \" / \" + upc_df[4] +\" / \" +upc_df[3]\n",
    "upc_df_small = upc_df.set_index(0)[[\"sku\",\"description\"]]"
   ]
  },
  {
   "cell_type": "code",
   "execution_count": 78,
   "metadata": {},
   "outputs": [],
   "source": [
    "sku_dict = upc_df_small[\"sku\"].to_dict()\n",
    "description_dict = upc_df_small[\"description\"].to_dict()"
   ]
  },
  {
   "cell_type": "code",
   "execution_count": 79,
   "metadata": {},
   "outputs": [],
   "source": [
    "dictionary = {}\n",
    "carton_code = data.iloc[1,1].split(\" \")[0]\n",
    "person = data.iloc[1,1].split(\" \")[-1]\n",
    "items = data.iloc[2:,1].dropna().values\n",
    "df = pd.DataFrame(items,columns = [\"upc\"])\n",
    "df[\"carton_code\"] = carton_code\n",
    "df[\"person\"] = person\n",
    "#df[\"description\"] = df.upc.replace(description_dict)\n",
    "#df[\"sku\"] = df.upc.re"
   ]
  },
  {
   "cell_type": "code",
   "execution_count": 80,
   "metadata": {},
   "outputs": [],
   "source": [
    "import numpy as np\n",
    "import math\n",
    "overall_df = pd.DataFrame(columns = [\"upc\",\"carton_code\",\"person\",\"date\"])\n",
    "for i in range(len(data.columns)):\n",
    "    cell = data.iloc[1,i]\n",
    "    if cell!=cell:\n",
    "        continue\n",
    "    carton_code = cell.split(\" \")[0]\n",
    "    person = cell.split(\" \")[-1]\n",
    "    date = data.iloc[0,i]\n",
    "    items = data.iloc[2:,i].dropna().values\n",
    "    df = pd.DataFrame(items,columns = [\"upc\"])\n",
    "    df[\"carton_code\"] = carton_code\n",
    "    df[\"person\"] = person\n",
    "    df[\"date\"] = date\n",
    "    overall_df = pd.concat([overall_df,df])"
   ]
  },
  {
   "cell_type": "code",
   "execution_count": 81,
   "metadata": {},
   "outputs": [],
   "source": [
    "overall_df[\"description\"] = overall_df.upc.replace(description_dict)\n",
    "overall_df[\"sku\"] = overall_df.upc.replace(sku_dict)"
   ]
  },
  {
   "cell_type": "code",
   "execution_count": 82,
   "metadata": {},
   "outputs": [
    {
     "data": {
      "text/plain": [
       "867810005843    188\n",
       "867810005836    186\n",
       "867810005881    174\n",
       "867810007472    159\n",
       "817718026105    157\n",
       "               ... \n",
       "843084152520      1\n",
       "843084117147      1\n",
       "843084101801      1\n",
       "843084194940      1\n",
       "843084186099      1\n",
       "Name: upc, Length: 1719, dtype: int64"
      ]
     },
     "execution_count": 82,
     "metadata": {},
     "output_type": "execute_result"
    }
   ],
   "source": [
    "overall_df.upc.value_counts()"
   ]
  },
  {
   "cell_type": "code",
   "execution_count": 84,
   "metadata": {},
   "outputs": [
    {
     "data": {
      "text/html": [
       "<div>\n",
       "<style scoped>\n",
       "    .dataframe tbody tr th:only-of-type {\n",
       "        vertical-align: middle;\n",
       "    }\n",
       "\n",
       "    .dataframe tbody tr th {\n",
       "        vertical-align: top;\n",
       "    }\n",
       "\n",
       "    .dataframe thead th {\n",
       "        text-align: right;\n",
       "    }\n",
       "</style>\n",
       "<table border=\"1\" class=\"dataframe\">\n",
       "  <thead>\n",
       "    <tr style=\"text-align: right;\">\n",
       "      <th></th>\n",
       "      <th>upc</th>\n",
       "      <th>carton_code</th>\n",
       "      <th>person</th>\n",
       "      <th>date</th>\n",
       "      <th>description</th>\n",
       "      <th>sku</th>\n",
       "    </tr>\n",
       "  </thead>\n",
       "  <tbody>\n",
       "    <tr>\n",
       "      <th>0</th>\n",
       "      <td>843084140091</td>\n",
       "      <td>#1A</td>\n",
       "      <td>3/1</td>\n",
       "      <td>V-03-01-21  L.I</td>\n",
       "      <td>Cruise Boardshort / Indigo Floating Palm / 33</td>\n",
       "      <td>V314IFP33</td>\n",
       "    </tr>\n",
       "    <tr>\n",
       "      <th>1</th>\n",
       "      <td>817718026228</td>\n",
       "      <td>#1A</td>\n",
       "      <td>3/1</td>\n",
       "      <td>V-03-01-21  L.I</td>\n",
       "      <td>Ponto Performance Pant / Charcoal Heather / XXL</td>\n",
       "      <td>V418HCCXXL</td>\n",
       "    </tr>\n",
       "    <tr>\n",
       "      <th>2</th>\n",
       "      <td>867810005843</td>\n",
       "      <td>#1A</td>\n",
       "      <td>3/1</td>\n",
       "      <td>V-03-01-21  L.I</td>\n",
       "      <td>Performance Jogger / Black / M</td>\n",
       "      <td>VW303BLKM</td>\n",
       "    </tr>\n",
       "    <tr>\n",
       "      <th>3</th>\n",
       "      <td>843084112302</td>\n",
       "      <td>#1A</td>\n",
       "      <td>3/1</td>\n",
       "      <td>V-03-01-21  L.I</td>\n",
       "      <td>Pace High Rise Legging / Black / S</td>\n",
       "      <td>VW329BLKS</td>\n",
       "    </tr>\n",
       "    <tr>\n",
       "      <th>4</th>\n",
       "      <td>867810005843</td>\n",
       "      <td>#1A</td>\n",
       "      <td>3/1</td>\n",
       "      <td>V-03-01-21  L.I</td>\n",
       "      <td>Performance Jogger / Black / M</td>\n",
       "      <td>VW303BLKM</td>\n",
       "    </tr>\n",
       "    <tr>\n",
       "      <th>...</th>\n",
       "      <td>...</td>\n",
       "      <td>...</td>\n",
       "      <td>...</td>\n",
       "      <td>...</td>\n",
       "      <td>...</td>\n",
       "      <td>...</td>\n",
       "    </tr>\n",
       "    <tr>\n",
       "      <th>60</th>\n",
       "      <td>843084134038</td>\n",
       "      <td>#237A</td>\n",
       "      <td>VB</td>\n",
       "      <td>V-03-16-21  JH</td>\n",
       "      <td>Laguna Lounge Pant / Ink / S</td>\n",
       "      <td>VW347INKS</td>\n",
       "    </tr>\n",
       "    <tr>\n",
       "      <th>61</th>\n",
       "      <td>843084154685</td>\n",
       "      <td>#237A</td>\n",
       "      <td>VB</td>\n",
       "      <td>V-03-16-21  JH</td>\n",
       "      <td>Womens Ripstop Pant / Black Camo / XS</td>\n",
       "      <td>VW401BCMXS</td>\n",
       "    </tr>\n",
       "    <tr>\n",
       "      <th>62</th>\n",
       "      <td>843084162024</td>\n",
       "      <td>#237A</td>\n",
       "      <td>VB</td>\n",
       "      <td>V-03-16-21  JH</td>\n",
       "      <td>Daily Jogger / Black / S</td>\n",
       "      <td>VW418BLKS</td>\n",
       "    </tr>\n",
       "    <tr>\n",
       "      <th>63</th>\n",
       "      <td>843084176878</td>\n",
       "      <td>#237A</td>\n",
       "      <td>VB</td>\n",
       "      <td>V-03-16-21  JH</td>\n",
       "      <td>Performance Jogger - Long / Charcoal Heather / L</td>\n",
       "      <td>VW303-LHCCL</td>\n",
       "    </tr>\n",
       "    <tr>\n",
       "      <th>64</th>\n",
       "      <td>843084167852</td>\n",
       "      <td>#237A</td>\n",
       "      <td>VB</td>\n",
       "      <td>V-03-16-21  JH</td>\n",
       "      <td>Sunday Performance Jogger / Oxblood / M</td>\n",
       "      <td>V416OXBM</td>\n",
       "    </tr>\n",
       "  </tbody>\n",
       "</table>\n",
       "<p>14076 rows × 6 columns</p>\n",
       "</div>"
      ],
      "text/plain": [
       "             upc carton_code person             date  \\\n",
       "0   843084140091         #1A    3/1  V-03-01-21  L.I   \n",
       "1   817718026228         #1A    3/1  V-03-01-21  L.I   \n",
       "2   867810005843         #1A    3/1  V-03-01-21  L.I   \n",
       "3   843084112302         #1A    3/1  V-03-01-21  L.I   \n",
       "4   867810005843         #1A    3/1  V-03-01-21  L.I   \n",
       "..           ...         ...    ...              ...   \n",
       "60  843084134038       #237A     VB   V-03-16-21  JH   \n",
       "61  843084154685       #237A     VB   V-03-16-21  JH   \n",
       "62  843084162024       #237A     VB   V-03-16-21  JH   \n",
       "63  843084176878       #237A     VB   V-03-16-21  JH   \n",
       "64  843084167852       #237A     VB   V-03-16-21  JH   \n",
       "\n",
       "                                         description          sku  \n",
       "0      Cruise Boardshort / Indigo Floating Palm / 33    V314IFP33  \n",
       "1    Ponto Performance Pant / Charcoal Heather / XXL   V418HCCXXL  \n",
       "2                     Performance Jogger / Black / M    VW303BLKM  \n",
       "3                 Pace High Rise Legging / Black / S    VW329BLKS  \n",
       "4                     Performance Jogger / Black / M    VW303BLKM  \n",
       "..                                               ...          ...  \n",
       "60                      Laguna Lounge Pant / Ink / S    VW347INKS  \n",
       "61             Womens Ripstop Pant / Black Camo / XS   VW401BCMXS  \n",
       "62                          Daily Jogger / Black / S    VW418BLKS  \n",
       "63  Performance Jogger - Long / Charcoal Heather / L  VW303-LHCCL  \n",
       "64           Sunday Performance Jogger / Oxblood / M     V416OXBM  \n",
       "\n",
       "[14076 rows x 6 columns]"
      ]
     },
     "execution_count": 84,
     "metadata": {},
     "output_type": "execute_result"
    }
   ],
   "source": [
    "overall_df"
   ]
  }
 ],
 "metadata": {
  "kernelspec": {
   "display_name": "Python 3",
   "language": "python",
   "name": "python3"
  },
  "language_info": {
   "codemirror_mode": {
    "name": "ipython",
    "version": 3
   },
   "file_extension": ".py",
   "mimetype": "text/x-python",
   "name": "python",
   "nbconvert_exporter": "python",
   "pygments_lexer": "ipython3",
   "version": "3.7.6"
  }
 },
 "nbformat": 4,
 "nbformat_minor": 4
}
